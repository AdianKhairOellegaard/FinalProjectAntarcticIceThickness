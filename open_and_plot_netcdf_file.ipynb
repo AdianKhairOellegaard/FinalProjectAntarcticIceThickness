{
 "cells": [
  {
   "cell_type": "code",
   "execution_count": null,
   "id": "48ce90a9-d947-4b5c-8121-f75b3d53e4da",
   "metadata": {},
   "outputs": [],
   "source": [
    "import matplotlib.pyplot as plt\n",
    "import rioxarray\n",
    "import hvplot.xarray\n",
    "import panel as pn\n",
    "\n",
    "# define input\n",
    "FOLDER_AN_THICKNESS = f\"/media/maffe/nvme/Antarctica_NSIDC/thickness/NSIDC-0756/\"\n",
    "file_an_bedmac = f\"{FOLDER_AN_THICKNESS}BedMachineAntarctica-v3.nc\"\n",
    "\n",
    "# use rioxarray to open the netcdf file. rioxarray is one option. Others possible.\n",
    "an_bedmac = rioxarray.open_rasterio(file_an_bedmac)\n",
    "\n",
    "# print content. Many data variables. Among those are ice 'thickness' and 'surface'.\n",
    "# see https://nsidc.org/sites/default/files/documents/user-guide/nsidc-0756-v003-userguide.pdf for more\n",
    "#print(an_bedmac)\n",
    "\n",
    "# the ice thickness map nodata value is set as 9.96921e+36\n",
    "nodata_ith = an_bedmac['thickness'].rio.nodata\n",
    "# print(nodata_ith)\n",
    "\n",
    "# you may want to replace those values with nan not to carry around this value.\n",
    "an_bedmac['thickness'] = an_bedmac['thickness'].where(an_bedmac['thickness'] != 0.0)\n",
    "\n",
    "# Plot: strategy 1 (easier but worse)\n",
    "# matplotlib (no interactivity, static image, loads the entire array into memory)\n",
    "# an_bedmac['thickness'].plot()\n",
    "# plt.show()\n",
    "\n",
    "# Plot: strategy 2 (a little more elaborate)\n",
    "# A nice alternative to play around with the plot in an interactive fashion:\n",
    "# initialize the Panel runtime environment\n",
    "pn.extension()\n",
    "\n",
    "def view():\n",
    "    return an_bedmac['thickness'].hvplot.image(\n",
    "        x='x', y='y',\n",
    "        rasterize=True, # Datashader aggregates data to fit the screen resolution\n",
    "        dynamic=True, # plot will dynamically update\n",
    "    ).opts(\n",
    "        cmap='turbo',\n",
    "        width=700,\n",
    "        height=700,\n",
    "    )\n",
    "\n",
    "# displayed the raster in the browser\n",
    "pn.serve(view, title=\"tab_title\", show=True)"
   ]
  }
 ],
 "metadata": {
  "kernelspec": {
   "display_name": "appmlenv",
   "language": "python",
   "name": "appmlenv"
  },
  "language_info": {
   "codemirror_mode": {
    "name": "ipython",
    "version": 3
   },
   "file_extension": ".py",
   "mimetype": "text/x-python",
   "name": "python",
   "nbconvert_exporter": "python",
   "pygments_lexer": "ipython3",
   "version": "3.12.1"
  }
 },
 "nbformat": 4,
 "nbformat_minor": 5
}
